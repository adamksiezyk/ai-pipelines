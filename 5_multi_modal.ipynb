{
 "cells": [
  {
   "cell_type": "markdown",
   "id": "ba6da0be-703c-4214-9e22-a7863e4d9670",
   "metadata": {},
   "source": [
    "# Multi Modal Models"
   ]
  },
  {
   "cell_type": "code",
   "execution_count": null,
   "id": "9c4b5a12-93e3-4ca1-aea1-5b8ca833a16c",
   "metadata": {},
   "outputs": [],
   "source": [
    "import base64\n",
    "from IPython.display import Image\n",
    "from langchain_community.chat_message_histories import ChatMessageHistory\n",
    "from langchain_core.messages import AIMessage, HumanMessage, SystemMessage\n",
    "from langchain_core.prompts import ChatPromptTemplate, MessagesPlaceholder\n",
    "from langchain_core.runnables.history import RunnableWithMessageHistory\n",
    "from langchain_openai import ChatOpenAI"
   ]
  },
  {
   "cell_type": "markdown",
   "id": "ccb0820a-8300-4d65-9244-3f5fcdc2ae80",
   "metadata": {},
   "source": [
    "### Connect to LlamaCpp"
   ]
  },
  {
   "cell_type": "code",
   "execution_count": null,
   "id": "6162f0ed-2091-43dd-beea-3758c792ae69",
   "metadata": {},
   "outputs": [],
   "source": [
    "chat_llm = ChatOpenAI(\n",
    "    base_url=\"http://localhost:8080/v1\",\n",
    "    api_key=\"dev\",\n",
    "    model=\"llava\",\n",
    "    temperature=0,\n",
    "    max_tokens=128,\n",
    ")"
   ]
  },
  {
   "cell_type": "markdown",
   "id": "a6102a40-0e3b-442d-80d6-561ea0fefaea",
   "metadata": {},
   "source": [
    "### Invoke with image URL"
   ]
  },
  {
   "cell_type": "code",
   "execution_count": null,
   "id": "7854b27d-b6cb-4c05-98ca-cac86bcdc21f",
   "metadata": {},
   "outputs": [],
   "source": [
    "Image(url=\"https://cdn.thewirecutter.com/wp-content/media/2022/11/clean-everything-dishwasher-filter-2048px-6795-3x2-1.jpg\", width=480)"
   ]
  },
  {
   "cell_type": "code",
   "execution_count": null,
   "id": "ff15dfdb-2a36-43da-a9d0-34f9f3efd928",
   "metadata": {},
   "outputs": [],
   "source": [
    "chat_llm.invoke([\n",
    "    SystemMessage(\"You are an AI assistant, that helps people analyse images from manuals\"),\n",
    "    HumanMessage(\n",
    "        content=[\n",
    "            {\n",
    "                \"type\": \"image_url\",\n",
    "                \"image_url\": {\n",
    "                    \"url\": \"https://cdn.thewirecutter.com/wp-content/media/2022/11/clean-everything-dishwasher-filter-2048px-6795-3x2-1.jpg\"\n",
    "                },\n",
    "            },\n",
    "            {\"type\": \"text\", \"text\": \"This an image from a dishwasher manual, describe it.\"},\n",
    "        ]\n",
    "    ),\n",
    "])"
   ]
  },
  {
   "cell_type": "markdown",
   "id": "795cdf59-1c8a-4606-8806-2dde355fa7fe",
   "metadata": {},
   "source": [
    "### Invoke with uploaded image"
   ]
  },
  {
   "cell_type": "code",
   "execution_count": null,
   "id": "57cb3027-140f-4be2-8a51-c2969087e7a9",
   "metadata": {},
   "outputs": [],
   "source": [
    "def encode_image(image_path):\n",
    "  with open(image_path, \"rb\") as image_file:\n",
    "    return base64.b64encode(image_file.read()).decode('utf-8')"
   ]
  },
  {
   "cell_type": "code",
   "execution_count": null,
   "id": "21107f40-804e-4adb-b7b8-d3f87c31f5cb",
   "metadata": {},
   "outputs": [],
   "source": [
    "Image(filename=\"./documents/image.jpg\", width=480) "
   ]
  },
  {
   "cell_type": "code",
   "execution_count": null,
   "id": "5de1182e-5317-4e5c-bbc1-8e84e287e847",
   "metadata": {},
   "outputs": [],
   "source": [
    "base64_image = encode_image(\"./documents/image.jpg\")\n",
    "chat_llm.invoke([\n",
    "    SystemMessage(\"You are an AI assistant, that helps people analyse images from manuals\"),\n",
    "    HumanMessage(\n",
    "        content=[\n",
    "            {\n",
    "                \"type\": \"image_url\",\n",
    "                \"image_url\": {\n",
    "                    \"url\": f\"data:image/jpeg;base64,{base64_image}\"\n",
    "                },\n",
    "            },\n",
    "            {\"type\": \"text\", \"text\": \"This an image from a dishwasher manual, describe it.\"},\n",
    "        ]\n",
    "    ),\n",
    "])"
   ]
  }
 ],
 "metadata": {
  "kernelspec": {
   "display_name": "ai-coe-webinar",
   "language": "python",
   "name": "ai-coe-webinar"
  },
  "language_info": {
   "codemirror_mode": {
    "name": "ipython",
    "version": 3
   },
   "file_extension": ".py",
   "mimetype": "text/x-python",
   "name": "python",
   "nbconvert_exporter": "python",
   "pygments_lexer": "ipython3",
   "version": "3.11.6"
  }
 },
 "nbformat": 4,
 "nbformat_minor": 5
}
