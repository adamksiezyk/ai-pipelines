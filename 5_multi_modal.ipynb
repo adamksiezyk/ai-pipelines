{
 "cells": [
  {
   "cell_type": "markdown",
   "id": "ba6da0be-703c-4214-9e22-a7863e4d9670",
   "metadata": {},
   "source": [
    "# Multi Midal Models"
   ]
  },
  {
   "cell_type": "code",
   "execution_count": 1,
   "id": "9c4b5a12-93e3-4ca1-aea1-5b8ca833a16c",
   "metadata": {},
   "outputs": [],
   "source": [
    "import base64\n",
    "from IPython.display import Image\n",
    "from langchain_community.chat_message_histories import ChatMessageHistory\n",
    "from langchain_core.messages import AIMessage, HumanMessage, SystemMessage\n",
    "from langchain_core.prompts import ChatPromptTemplate, MessagesPlaceholder\n",
    "from langchain_core.runnables.history import RunnableWithMessageHistory\n",
    "from langchain_openai import ChatOpenAI"
   ]
  },
  {
   "cell_type": "markdown",
   "id": "ccb0820a-8300-4d65-9244-3f5fcdc2ae80",
   "metadata": {},
   "source": [
    "### Connect to LlamaCpp"
   ]
  },
  {
   "cell_type": "code",
   "execution_count": 2,
   "id": "6162f0ed-2091-43dd-beea-3758c792ae69",
   "metadata": {},
   "outputs": [],
   "source": [
    "chat_llm = ChatOpenAI(\n",
    "    base_url=\"http://localhost:9999/v1\",\n",
    "    api_key=\"dev\",\n",
    "    model=\"llava\",\n",
    "    temperature=0,\n",
    "    max_tokens=128,\n",
    ")"
   ]
  },
  {
   "cell_type": "markdown",
   "id": "a6102a40-0e3b-442d-80d6-561ea0fefaea",
   "metadata": {},
   "source": [
    "### Invoke with image URL"
   ]
  },
  {
   "cell_type": "code",
   "execution_count": 3,
   "id": "7854b27d-b6cb-4c05-98ca-cac86bcdc21f",
   "metadata": {},
   "outputs": [
    {
     "data": {
      "text/html": [
       "<img src=\"https://cdn.thewirecutter.com/wp-content/media/2022/11/clean-everything-dishwasher-filter-2048px-6795-3x2-1.jpg\"/>"
      ],
      "text/plain": [
       "<IPython.core.display.Image object>"
      ]
     },
     "execution_count": 3,
     "metadata": {},
     "output_type": "execute_result"
    }
   ],
   "source": [
    "Image(url=\"https://cdn.thewirecutter.com/wp-content/media/2022/11/clean-everything-dishwasher-filter-2048px-6795-3x2-1.jpg\")"
   ]
  },
  {
   "cell_type": "code",
   "execution_count": 4,
   "id": "ff15dfdb-2a36-43da-a9d0-34f9f3efd928",
   "metadata": {},
   "outputs": [
    {
     "data": {
      "text/plain": [
       "AIMessage(content=' The image features a dishwasher with a metal bowl placed inside it. The bowl is filled with various utensils and items, including a spoon and a fork. The spoon is located towards the left side of the bowl, while the fork is situated more towards the center. The dishwasher appears to be empty and ready for use.', response_metadata={'token_usage': {'completion_tokens': 78, 'prompt_tokens': 618, 'total_tokens': 696}, 'model_name': 'llava', 'system_fingerprint': None, 'finish_reason': 'stop', 'logprobs': None})"
      ]
     },
     "execution_count": 4,
     "metadata": {},
     "output_type": "execute_result"
    }
   ],
   "source": [
    "chat_llm.invoke([\n",
    "    SystemMessage(\"You are an AI assistant, that helps people write pirate poems\"),\n",
    "    HumanMessage(\n",
    "        content=[\n",
    "            {\n",
    "                \"type\": \"image_url\",\n",
    "                \"image_url\": {\n",
    "                    \"url\": \"https://cdn.thewirecutter.com/wp-content/media/2022/11/clean-everything-dishwasher-filter-2048px-6795-3x2-1.jpg\"\n",
    "                },\n",
    "            },\n",
    "            {\"type\": \"text\", \"text\": \"This an image from a dishwasher manual, describe it.\"},\n",
    "        ]\n",
    "    ),\n",
    "])"
   ]
  },
  {
   "cell_type": "markdown",
   "id": "795cdf59-1c8a-4606-8806-2dde355fa7fe",
   "metadata": {},
   "source": [
    "### Invoke with uploaded image"
   ]
  },
  {
   "cell_type": "code",
   "execution_count": 5,
   "id": "57cb3027-140f-4be2-8a51-c2969087e7a9",
   "metadata": {},
   "outputs": [],
   "source": [
    "def encode_image(image_path):\n",
    "  with open(image_path, \"rb\") as image_file:\n",
    "    return base64.b64encode(image_file.read()).decode('utf-8')"
   ]
  },
  {
   "cell_type": "code",
   "execution_count": 6,
   "id": "21107f40-804e-4adb-b7b8-d3f87c31f5cb",
   "metadata": {},
   "outputs": [
    {
     "data": {
      "image/jpeg": "[encoded data removed]",
      "text/plain": [
       "<IPython.core.display.Image object>"
      ]
     },
     "execution_count": 6,
     "metadata": {},
     "output_type": "execute_result"
    }
   ],
   "source": [
    "Image(filename=\"./documents/image.jpg\") "
   ]
  },
  {
   "cell_type": "code",
   "execution_count": 7,
   "id": "5de1182e-5317-4e5c-bbc1-8e84e287e847",
   "metadata": {},
   "outputs": [
    {
     "data": {
      "text/plain": [
       "AIMessage(content=\" The image is a diagram from a dishwasher manual, showing the different parts and their functions. The diagram includes a lower filter and an upper filter. The lower filter is located near the bottom of the dishwasher and is responsible for filtering out debris and dirt from the water. The upper filter is positioned above the lower filter and is designed to remove larger particles and sediments from the water. The diagram also shows the assembly of these filters and their relationship to the dishwasher's overall operation.\", response_metadata={'token_usage': {'completion_tokens': 112, 'prompt_tokens': 618, 'total_tokens': 730}, 'model_name': 'llava', 'system_fingerprint': None, 'finish_reason': 'stop', 'logprobs': None})"
      ]
     },
     "execution_count": 7,
     "metadata": {},
     "output_type": "execute_result"
    }
   ],
   "source": [
    "base64_image = encode_image(\"./documents/image.jpg\")\n",
    "chat_llm.invoke([\n",
    "    SystemMessage(\"You are an AI assistant, that helps people write pirate poems\"),\n",
    "    HumanMessage(\n",
    "        content=[\n",
    "            {\n",
    "                \"type\": \"image_url\",\n",
    "                \"image_url\": {\n",
    "                    \"url\": f\"data:image/jpeg;base64,{base64_image}\"\n",
    "                },\n",
    "            },\n",
    "            {\"type\": \"text\", \"text\": \"This an image from a dishwasher manual, describe it.\"},\n",
    "        ]\n",
    "    ),\n",
    "])"
   ]
  }
 ],
 "metadata": {
  "kernelspec": {
   "display_name": "ai-coe-webinar",
   "language": "python",
   "name": "ai-coe-webinar"
  },
  "language_info": {
   "codemirror_mode": {
    "name": "ipython",
    "version": 3
   },
   "file_extension": ".py",
   "mimetype": "text/x-python",
   "name": "python",
   "nbconvert_exporter": "python",
   "pygments_lexer": "ipython3",
   "version": "3.11.6"
  }
 },
 "nbformat": 4,
 "nbformat_minor": 5
}
