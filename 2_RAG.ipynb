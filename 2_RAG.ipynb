{
 "cells": [
  {
   "cell_type": "markdown",
   "id": "79c0be5e-3b2e-4366-a72b-fcc84a7f0b40",
   "metadata": {},
   "source": [
    "# Retrieval Augmented Generation"
   ]
  },
  {
   "cell_type": "code",
   "execution_count": null,
   "id": "9c4b5a12-93e3-4ca1-aea1-5b8ca833a16c",
   "metadata": {},
   "outputs": [],
   "source": [
    "import itertools\n",
    "from glob import glob\n",
    "from langchain_community.embeddings import HuggingFaceEmbeddings\n",
    "from langchain_community.document_loaders import PyMuPDFLoader\n",
    "from langchain_community.vectorstores import Chroma\n",
    "from langchain_core.output_parsers import StrOutputParser\n",
    "from langchain_core.prompts import PromptTemplate\n",
    "from langchain_core.runnables import RunnableLambda, RunnableParallel, RunnablePassthrough\n",
    "from langchain_openai import OpenAI\n",
    "from langchain_text_splitters import RecursiveCharacterTextSplitter\n",
    "from operator import itemgetter"
   ]
  },
  {
   "cell_type": "markdown",
   "id": "90b3fc08-fbf1-4538-9850-9b4b2429ecf4",
   "metadata": {},
   "source": [
    "### Load documents"
   ]
  },
  {
   "cell_type": "code",
   "execution_count": null,
   "id": "aed391fc-7851-4137-9db9-99e6eaf186df",
   "metadata": {},
   "outputs": [],
   "source": [
    "docs = [PyMuPDFLoader(fp).load() for fp in glob(\"./documents/*\")]\n",
    "print(f\"Number of documents: {len(docs)}\")\n",
    "print(f\"Total pages: {sum(len(d) for d in docs)}\")"
   ]
  },
  {
   "cell_type": "markdown",
   "id": "dd19859f-7124-497d-89db-b0650771bec4",
   "metadata": {},
   "source": [
    "### Split into chunks"
   ]
  },
  {
   "cell_type": "code",
   "execution_count": null,
   "id": "eca53909-fc2c-4948-a156-7a3ac6b9ccf1",
   "metadata": {},
   "outputs": [],
   "source": [
    "text_splitter = RecursiveCharacterTextSplitter(\n",
    "    chunk_size=1000,\n",
    "    chunk_overlap=200,\n",
    "    separators=[\"\\n\\n\", \".\\n\", \".\", \" \", \"\\n\"]\n",
    ")\n",
    "chunks = text_splitter.split_documents(itertools.chain.from_iterable(docs))\n",
    "print(f\"Total chunks: {len(chunks)}\")"
   ]
  },
  {
   "cell_type": "markdown",
   "id": "8d62443f-155f-47a0-a025-fad64d889086",
   "metadata": {},
   "source": [
    "### Vector Store"
   ]
  },
  {
   "cell_type": "code",
   "execution_count": null,
   "id": "3b18d6fa-ca07-4eb8-b44e-5b04e2b18377",
   "metadata": {},
   "outputs": [],
   "source": [
    "embeddings = HuggingFaceEmbeddings()\n",
    "vectorstore = Chroma.from_documents(documents=chunks, embedding=embeddings)"
   ]
  },
  {
   "cell_type": "markdown",
   "id": "ba6da0be-703c-4214-9e22-a7863e4d9670",
   "metadata": {},
   "source": [
    "### RAG chain"
   ]
  },
  {
   "cell_type": "code",
   "execution_count": null,
   "id": "945dd71e-9f98-40e9-a9b0-df39762fc38d",
   "metadata": {},
   "outputs": [],
   "source": [
    "def format_docs(docs):\n",
    "    return \"\\n\\n\".join(doc.page_content for doc in docs)"
   ]
  },
  {
   "cell_type": "code",
   "execution_count": null,
   "id": "6162f0ed-2091-43dd-beea-3758c792ae69",
   "metadata": {},
   "outputs": [],
   "source": [
    "prompt = PromptTemplate.from_template(\"\"\"You are an AI assistant, that helps people find information in documents.\n",
    "Use the following pieces of retrieved context to answer the question. If you don't know the answer, just say that you don't know. Use three sentences maximum and keep the answer concise.\n",
    "\n",
    "Question: {question} \n",
    "\n",
    "Context: {context} \n",
    "\n",
    "Answer:\"\"\")\n",
    "\n",
    "chat_llm = OpenAI(\n",
    "    base_url=\"http://localhost:8080/v1\",\n",
    "    api_key=\"dev\",\n",
    "    model=\"mistral\",\n",
    "    temperature=0,\n",
    "    max_tokens=128,\n",
    ")\n",
    "\n",
    "retriever = vectorstore.as_retriever()\n",
    "\n",
    "rag_chain = (\n",
    "    {\"context\": retriever | format_docs, \"question\": RunnablePassthrough()}\n",
    "    | prompt\n",
    "    | chat_llm\n",
    "    | StrOutputParser()\n",
    ")"
   ]
  },
  {
   "cell_type": "code",
   "execution_count": null,
   "id": "ff15dfdb-2a36-43da-a9d0-34f9f3efd928",
   "metadata": {},
   "outputs": [],
   "source": [
    "rag_chain.invoke(\"What to do if the dishwasher doesn't run?\")"
   ]
  },
  {
   "cell_type": "code",
   "execution_count": null,
   "id": "c2ff712a-c7d9-4ca6-a450-eb957efeea17",
   "metadata": {},
   "outputs": [],
   "source": [
    "response = rag_chain.stream(\"What is covered by the warranty?\")\n",
    "for token in response:\n",
    "    print(token, end=\"\")"
   ]
  },
  {
   "cell_type": "code",
   "execution_count": null,
   "id": "02c0b689-222a-4ed4-bdd2-03df9c8bf3fa",
   "metadata": {},
   "outputs": [],
   "source": [
    "response = rag_chain.stream(\"What is the normal wash temperature?\")\n",
    "for token in response:\n",
    "    print(token, end=\"\")"
   ]
  },
  {
   "cell_type": "markdown",
   "id": "6c96d520-cdf0-4f6e-bcd7-742d5645168b",
   "metadata": {},
   "source": [
    "### RAG chain with references"
   ]
  },
  {
   "cell_type": "code",
   "execution_count": null,
   "id": "489b57a6-3fcc-459b-b1ba-de9d2344b843",
   "metadata": {},
   "outputs": [],
   "source": [
    "rag_chain_with_ref = (\n",
    "    RunnableParallel({\"documents\": retriever, \"question\": RunnablePassthrough()})\n",
    "    | {\n",
    "        \"documents\": itemgetter(\"documents\"),\n",
    "        \"answer\": (\n",
    "            {\"context\": RunnableLambda(itemgetter(\"documents\")) | format_docs, \"question\": itemgetter(\"question\")}\n",
    "            | prompt\n",
    "            | chat_llm\n",
    "            | StrOutputParser()\n",
    "        )\n",
    "    }\n",
    ")"
   ]
  },
  {
   "cell_type": "code",
   "execution_count": null,
   "id": "776b8995-8081-4807-9f9f-7dbb810192ed",
   "metadata": {},
   "outputs": [],
   "source": [
    "result = rag_chain_with_ref.invoke(\"What is the normal wash temperature?\")\n",
    "\n",
    "print(\"Answer:\")\n",
    "print(result[\"answer\"].strip())\n",
    "for i, doc in enumerate(result[\"documents\"], 1):\n",
    "    print('-' * 80)\n",
    "    print()\n",
    "    print(f\"[{i}] {doc.metadata['title'].strip()}, Page {doc.metadata['page']}, {doc.metadata['author'].strip()}\")\n",
    "    print(doc.page_content.strip())"
   ]
  }
 ],
 "metadata": {
  "kernelspec": {
   "display_name": "ai-coe-webinar",
   "language": "python",
   "name": "ai-coe-webinar"
  },
  "language_info": {
   "codemirror_mode": {
    "name": "ipython",
    "version": 3
   },
   "file_extension": ".py",
   "mimetype": "text/x-python",
   "name": "python",
   "nbconvert_exporter": "python",
   "pygments_lexer": "ipython3",
   "version": "3.11.6"
  }
 },
 "nbformat": 4,
 "nbformat_minor": 5
}
