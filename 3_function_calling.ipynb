{
 "cells": [
  {
   "cell_type": "markdown",
   "id": "5f9077d1-4e75-431f-8d11-f6f909877a28",
   "metadata": {},
   "source": [
    "# Function calling"
   ]
  },
  {
   "cell_type": "code",
   "execution_count": null,
   "id": "9c4b5a12-93e3-4ca1-aea1-5b8ca833a16c",
   "metadata": {},
   "outputs": [],
   "source": [
    "from langchain_openai import ChatOpenAI\n",
    "from langchain_core.output_parsers.openai_tools import JsonOutputToolsParser\n",
    "from langchain_core.pydantic_v1 import BaseModel, Field"
   ]
  },
  {
   "cell_type": "markdown",
   "id": "ba6da0be-703c-4214-9e22-a7863e4d9670",
   "metadata": {},
   "source": [
    "### Chat\n",
    "\n",
    "Previously used Chat LLM\n",
    "\n",
    "```python\n",
    "chat_llm = ChatOpenAI(\n",
    "    base_url=\"http://localhost:8080/v1\",\n",
    "    api_key=\"dev\",\n",
    "    model=\"mistral\",\n",
    "    temperature=0,\n",
    "    max_tokens=128,\n",
    ")\n",
    "```"
   ]
  },
  {
   "cell_type": "markdown",
   "id": "9d4d5078-3b5a-4182-b1a4-9111cdf94688",
   "metadata": {},
   "source": [
    "### Function Calling"
   ]
  },
  {
   "cell_type": "code",
   "execution_count": null,
   "id": "1c0c03b3-1f60-4355-b487-2884d654594f",
   "metadata": {},
   "outputs": [],
   "source": [
    "def format_string(string, max_len=120):  \n",
    "    words = string.split(\" \")  \n",
    "    lines = []  \n",
    "    current_line = []  \n",
    "    current_length = 0  \n",
    "\n",
    "    for word in words:  \n",
    "        if current_length + len(word) + len(current_line) > max_len:  \n",
    "            lines.append(\" \".join(current_line))  \n",
    "            current_line = [word]  \n",
    "            current_length = len(word)  \n",
    "        else:  \n",
    "            current_line.append(word)  \n",
    "            current_length += len(word)  \n",
    "\n",
    "    lines.append(\" \".join(current_line))  \n",
    "\n",
    "    return \"\\n\".join(lines)"
   ]
  },
  {
   "cell_type": "code",
   "execution_count": null,
   "id": "8834337b-6d96-44b7-b500-dec3a8d4f076",
   "metadata": {},
   "outputs": [],
   "source": [
    "class Multiply(BaseModel):\n",
    "    \"\"\"Multiply two integers together.\"\"\"\n",
    "\n",
    "    a: int = Field(..., description=\"First integer\")\n",
    "    b: int = Field(..., description=\"Second integer\")\n",
    "\n",
    "\n",
    "class SendEmail(BaseModel):\n",
    "    \"\"\"Send an email to receiver.\"\"\"\n",
    "\n",
    "    receiver: str = Field(..., description=\"Email receiver\")\n",
    "    topic: str = Field(..., description=\"Email topic\")\n",
    "    content: str = Field(..., description=\"Short email content, max 3 lines. Sign the email as Adam\")"
   ]
  },
  {
   "cell_type": "code",
   "execution_count": null,
   "id": "4d11a795-3114-40b8-bdd7-19645bf4e726",
   "metadata": {},
   "outputs": [],
   "source": [
    "function_calling_llm = ChatOpenAI(\n",
    "    base_url=\"http://localhost:8080/v1\",\n",
    "    api_key=\"dev\",\n",
    "    model=\"mistral-function-calling\",\n",
    "    temperature=0,\n",
    "    max_tokens=256,\n",
    ")\n",
    "tools = [Multiply, SendEmail]\n",
    "function_calling_llm = function_calling_llm.bind_tools(tools)\n",
    "function_calling_chain = function_calling_llm | JsonOutputToolsParser()"
   ]
  },
  {
   "cell_type": "code",
   "execution_count": null,
   "id": "8adaafd6-32a7-4d7d-b488-ec7a09d5634c",
   "metadata": {},
   "outputs": [],
   "source": [
    "result = function_calling_chain.invoke(\"What is 3 * 12?\")\n",
    "result"
   ]
  },
  {
   "cell_type": "code",
   "execution_count": null,
   "id": "f38e423b-383f-4418-b953-d2a9fc76225b",
   "metadata": {},
   "outputs": [],
   "source": [
    "mul = Multiply(**result[0]['args']['input'])\n",
    "mul.a * mul.b"
   ]
  },
  {
   "cell_type": "code",
   "execution_count": null,
   "id": "4759dcf3-3395-45b3-a495-175cb8bbf3e5",
   "metadata": {},
   "outputs": [],
   "source": [
    "result = function_calling_chain.invoke(\"Write an email to orders@carparts.com to place an order for new tyres for my Mercedes S-class\")\n",
    "result"
   ]
  },
  {
   "cell_type": "code",
   "execution_count": null,
   "id": "9049efbc-b157-4c41-a6a7-86cf2d7dd69c",
   "metadata": {},
   "outputs": [],
   "source": [
    "email = SendEmail(**result[0]['args'])\n",
    "print(\"SENDING EMAIL\")\n",
    "print()\n",
    "print(f\"Receiver: {email.receiver!r:<10}\")\n",
    "print(f\"Topic: {email.topic!r:<10}\")\n",
    "print(\"-\" * 80)\n",
    "print()\n",
    "print(format_string(email.content, max_len=80))"
   ]
  },
  {
   "cell_type": "markdown",
   "id": "c0c44eb5-0359-4a9f-a9a0-9c7e7d2d0a49",
   "metadata": {},
   "source": [
    "### Try to confuse it"
   ]
  },
  {
   "cell_type": "code",
   "execution_count": null,
   "id": "34d300e0-67b7-46ab-ab71-4b98999555aa",
   "metadata": {},
   "outputs": [],
   "source": [
    "result = function_calling_chain.invoke(\"\"\"Lorem ipsum dolor sit amet, consectetur adipiscing elit, sed do eiusmod\n",
    "tempor incididunt ut labore et dolore magna aliqua. Ut enim ad minim veniam, quis nostrud exercitation ullamco laboris\n",
    "nisi ut aliquip ex ea commodo consequat. Duis aute irure dolor in reprehenderit in voluptate velit esse cillum dolore\n",
    "eu fugiat nulla pariatur. Excepteur sint occaecat cupidatat non proident, sunt in culpa qui officia deserunt mollit\n",
    "anim id est laborum.\n",
    "Write an email to orders@carparts.com to place an order for new tyres for my Mercedes S-class.\n",
    "Sed ut perspiciatis unde omnis iste natus error sit voluptatem accusantium doloremque laudantium, totam rem aperiam,\n",
    "eaque ipsa quae ab illo inventore veritatis et quasi architecto beatae vitae dicta sunt explicabo.\"\"\")\n",
    "result"
   ]
  }
 ],
 "metadata": {
  "kernelspec": {
   "display_name": "ai-coe-webinar",
   "language": "python",
   "name": "ai-coe-webinar"
  },
  "language_info": {
   "codemirror_mode": {
    "name": "ipython",
    "version": 3
   },
   "file_extension": ".py",
   "mimetype": "text/x-python",
   "name": "python",
   "nbconvert_exporter": "python",
   "pygments_lexer": "ipython3",
   "version": "3.11.6"
  }
 },
 "nbformat": 4,
 "nbformat_minor": 5
}
